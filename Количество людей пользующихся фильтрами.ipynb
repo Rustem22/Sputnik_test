{
 "cells": [
  {
   "cell_type": "code",
   "execution_count": 11,
   "id": "eb5850f0",
   "metadata": {},
   "outputs": [],
   "source": [
    "import pandas as pd"
   ]
  },
  {
   "cell_type": "code",
   "execution_count": 12,
   "id": "db6dd368",
   "metadata": {},
   "outputs": [],
   "source": [
    "import sqlite3"
   ]
  },
  {
   "cell_type": "code",
   "execution_count": 13,
   "id": "9e25037c",
   "metadata": {},
   "outputs": [],
   "source": [
    "# Загрузим данные из файла .csv в объект DataFrame\n",
    "df = pd.read_csv('/Users/rustem/Desktop/events filters к тестовому Product Analyst Q1 2024.csv')"
   ]
  },
  {
   "cell_type": "code",
   "execution_count": 14,
   "id": "eb5fc7e6",
   "metadata": {},
   "outputs": [],
   "source": [
    "# Создаем подключение к базе данных SQLite\n",
    "conn = sqlite3.connect('data.db')"
   ]
  },
  {
   "cell_type": "code",
   "execution_count": 15,
   "id": "d15edd26",
   "metadata": {},
   "outputs": [
    {
     "data": {
      "text/plain": [
       "19092"
      ]
     },
     "execution_count": 15,
     "metadata": {},
     "output_type": "execute_result"
    }
   ],
   "source": [
    "# Запишем DataFrame в базу данных SQLite\n",
    "df.to_sql('my_table', conn, if_exists='replace', index=False)"
   ]
  },
  {
   "cell_type": "code",
   "execution_count": 26,
   "id": "6a5e878d",
   "metadata": {},
   "outputs": [
    {
     "data": {
      "text/html": [
       "<div>\n",
       "<style scoped>\n",
       "    .dataframe tbody tr th:only-of-type {\n",
       "        vertical-align: middle;\n",
       "    }\n",
       "\n",
       "    .dataframe tbody tr th {\n",
       "        vertical-align: top;\n",
       "    }\n",
       "\n",
       "    .dataframe thead th {\n",
       "        text-align: right;\n",
       "    }\n",
       "</style>\n",
       "<table border=\"1\" class=\"dataframe\">\n",
       "  <thead>\n",
       "    <tr style=\"text-align: right;\">\n",
       "      <th></th>\n",
       "      <th>COUNT(*)</th>\n",
       "      <th>SUM(unique_events)</th>\n",
       "    </tr>\n",
       "  </thead>\n",
       "  <tbody>\n",
       "    <tr>\n",
       "      <th>0</th>\n",
       "      <td>7354</td>\n",
       "      <td>63063</td>\n",
       "    </tr>\n",
       "  </tbody>\n",
       "</table>\n",
       "</div>"
      ],
      "text/plain": [
       "   COUNT(*)  SUM(unique_events)\n",
       "0      7354               63063"
      ]
     },
     "execution_count": 26,
     "metadata": {},
     "output_type": "execute_result"
    }
   ],
   "source": [
    "# Выполним SQL-запрос для просмотра таблицы\n",
    "query = \"\"\"\n",
    "SELECT COUNT(*), SUM(unique_events)\n",
    "FROM my_table\n",
    "WHERE event_action = 'price_button_submit'\n",
    "\"\"\"\n",
    "\n",
    "# Выполним запрос и выведем результаты\n",
    "result = pd.read_sql(query, conn)\n",
    "result"
   ]
  }
 ],
 "metadata": {
  "kernelspec": {
   "display_name": "Python 3 (ipykernel)",
   "language": "python",
   "name": "python3"
  },
  "language_info": {
   "codemirror_mode": {
    "name": "ipython",
    "version": 3
   },
   "file_extension": ".py",
   "mimetype": "text/x-python",
   "name": "python",
   "nbconvert_exporter": "python",
   "pygments_lexer": "ipython3",
   "version": "3.11.5"
  }
 },
 "nbformat": 4,
 "nbformat_minor": 5
}
